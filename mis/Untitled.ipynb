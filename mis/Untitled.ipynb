{
 "cells": [
  {
   "cell_type": "code",
   "execution_count": 2,
   "id": "aa9e2e5a-c587-4e6c-a776-639df4c479a4",
   "metadata": {},
   "outputs": [],
   "source": [
    "import pandas as pd\n",
    "\n",
    "# Load the CSV into a DataFrame\n",
    "amedas_df = pd.read_csv(\"Amedas_list.csv\")\n",
    "\n",
    "# Convert the DataFrame to a dictionary\n",
    "amedas_data = amedas_df.to_dict(orient=\"records\")\n",
    "\n",
    "# Print the dictionary to copy for embedding in the Python script\n",
    "#print(amedas_data)\n"
   ]
  },
  {
   "cell_type": "code",
   "execution_count": null,
   "id": "f513f1bc-26ee-46a7-ba1d-19e2290ecdc3",
   "metadata": {},
   "outputs": [],
   "source": []
  },
  {
   "cell_type": "code",
   "execution_count": 4,
   "id": "e2b0aba3-27c3-466d-b740-c7ef1bf25751",
   "metadata": {},
   "outputs": [
    {
     "data": {
      "text/plain": [
       "Index(['Unnamed: 0', 'station_id', 'station_name', 'station_name_kana',\n",
       "       'fuken_id', 'type', 'Latitude (degree)', 'Latitude (minute)',\n",
       "       'latitude', 'Longitude (degree)', 'Longitude (minute)', 'longitude',\n",
       "       'height', 'f_pre', 'f_wsd', 'f_tem', 'f_sun', 'f_snc', 'End_year',\n",
       "       'End_month', 'End_day', 'obs_ended', 'note1', 'note2', 'note3', 'note4',\n",
       "       'note5', 'amedas_id1', 'amedas_id2', 'station_name_roman'],\n",
       "      dtype='object')"
      ]
     },
     "execution_count": 4,
     "metadata": {},
     "output_type": "execute_result"
    }
   ],
   "source": [
    "amedas_df.columns"
   ]
  },
  {
   "cell_type": "code",
   "execution_count": 7,
   "id": "e08e3715-dec1-4560-92ca-b962911cd9f4",
   "metadata": {},
   "outputs": [],
   "source": [
    "df = amedas_df.loc[:,['station_id','station_name', 'station_name_kana',\n",
    "                 'station_name_roman',\n",
    "                 'longitude', 'latitude', 'height'\n",
    "                ]]"
   ]
  },
  {
   "cell_type": "code",
   "execution_count": 8,
   "id": "a8e4cae5-93fa-49df-abdd-e418c580a1a1",
   "metadata": {},
   "outputs": [],
   "source": [
    "data = df.to_dict(orient=\"records\")"
   ]
  },
  {
   "cell_type": "code",
   "execution_count": 17,
   "id": "dcc96799-842e-4d9c-bb2e-66561e3eb018",
   "metadata": {},
   "outputs": [
    {
     "name": "stdout",
     "output_type": "stream",
     "text": [
      "Embedded data script has been written to embedded_amedas_data.py\n"
     ]
    }
   ],
   "source": [
    "import pandas as pd\n",
    "\n",
    "def generate_embedded_data_script(input_csv, output_script):\n",
    "    # Load the CSV into a DataFrame\n",
    "    amedas_df = pd.read_csv(input_csv)\n",
    "    df = amedas_df.loc[:,['station_id','station_name', 'station_name_kana',\n",
    "                 'station_name_roman',\n",
    "                 'longitude', 'latitude', 'height'\n",
    "                ]]    \n",
    "    # Convert the DataFrame to a dictionary format\n",
    "    amedas_data = df.to_dict(orient=\"records\")\n",
    "\n",
    "    # Start writing the new Python file\n",
    "    with open(output_script, \"w\") as f:\n",
    "        # Write header comments and imports\n",
    "        f.write(\"# This script contains embedded Amedas data as a variable\\n\")\n",
    "        f.write(\"# Generated from {}\\n\\n\".format(input_csv))\n",
    "        \n",
    "        # Define the variable name and embed data as a list of dictionaries\n",
    "        f.write(\"amedas_data = [\\n\")\n",
    "        \n",
    "        # Loop through each record in the data and format it as a dictionary\n",
    "        for record in amedas_data:\n",
    "            f.write(\"    \")\n",
    "            f.write(str(record) + \",\\n\")\n",
    "        \n",
    "        # Close the list\n",
    "        f.write(\"]\\n\\n\")\n",
    "        \n",
    "        # Add an example usage\n",
    "        f.write(\"# Usage example\\n\")\n",
    "        f.write(\"for station in amedas_data:\\n\")\n",
    "        f.write(\"    print(f\\\"Station ID: {station['station_id']}, Name: {station['station_name']}\\\")\\n\")\n",
    "\n",
    "# Specify input and output file names\n",
    "input_csv = \"Amedas_list.csv\"     # Input CSV file\n",
    "output_script = \"embedded_amedas_data.py\"  # Output Python file with embedded data\n",
    "\n",
    "# Generate the embedded data Python script\n",
    "generate_embedded_data_script(input_csv, output_script)\n",
    "\n",
    "print(f\"Embedded data script has been written to {output_script}\")\n"
   ]
  },
  {
   "cell_type": "code",
   "execution_count": null,
   "id": "0ec0ff1c-6ed2-4b7e-a538-ff397feef843",
   "metadata": {},
   "outputs": [],
   "source": []
  }
 ],
 "metadata": {
  "kernelspec": {
   "display_name": "Python 3 (ipykernel)",
   "language": "python",
   "name": "python3"
  },
  "language_info": {
   "codemirror_mode": {
    "name": "ipython",
    "version": 3
   },
   "file_extension": ".py",
   "mimetype": "text/x-python",
   "name": "python",
   "nbconvert_exporter": "python",
   "pygments_lexer": "ipython3",
   "version": "3.11.5"
  }
 },
 "nbformat": 4,
 "nbformat_minor": 5
}
