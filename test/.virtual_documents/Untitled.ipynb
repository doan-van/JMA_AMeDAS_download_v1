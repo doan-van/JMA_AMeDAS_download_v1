





from jma_data_tools import AmedasData
# Test: Get information for a specific station ID
station_id = 47646  # Replace with actual station ID
print(f"Information for station ID {station_id}:")
print(AmedasData.get_station_info(station_id))

# Test: Get stations in a specific fuken_id
fuken_id = 11  # Replace with actual fuken_id
print(f"Stations in fuken_id {fuken_id}:")
stations_in_fuken = AmedasData.get_stations_by_fuken_id(fuken_id)
for station_id, info in stations_in_fuken.items():
    print(f"Station ID: {station_id}, Name: {info['station_name']}")

# Test: Get stations in a latitude and longitude range
lat_min, lat_max = 35.0, 37.0
lon_min, lon_max = 139.0, 141.0
print(f"Stations in the specified latitude and longitude range:")
stations_in_range = AmedasData.get_stations_by_location_range(lat_min, lat_max, lon_min, lon_max)
for station_id, info in stations_in_range.items():
    print(f"Station ID: {station_id}, Name: {info['station_name']}")








from jma_data_tools import JMAGroundDataDownloader
import pandas as pd

# Initialize the downloader
downloader = JMAGroundDataDownloader(output_path='ground_data')

# Test Parameters
station_id = '47646'  # Example station ID (e.g., Tsukuba station)
test_date = pd.Timestamp('2022-02-01')  # Example date
    
hourly_data, url = downloader.download_amedas(station_id, test_date, dtype='hourly')
if not hourly_data.empty:
    print("Hourly data downloaded successfully. URL:", url)
    print(hourly_data.head())
    from jma_data_tools import JMADataPlotter 
    plotter = JMADataPlotter()
    plotter.plot_hourly_temp_hum_wind(hourly_data)
        
else:
    print("Failed to download hourly data or data is empty.")
    
    





import pandas as pd
from jma_data_tools import JMAGroundDataDownloader
import time
import os

# Initialize the downloader
downloader = JMAGroundDataDownloader( output_path= 'ground_data' )

# Set up parameters
point = '47646'  # Example: Tsukuba station
output_dir = "daily_data"  # Directory to save daily data files
start_date = pd.Timestamp('2021-01-01')
end_date = pd.Timestamp('2021-03-01')

# Generate date range for 30 years of daily data
date_range = pd.date_range(start=start_date, end=end_date, freq='MS')
# Loop over each date to download daily data
for date in date_range:
    print(f"Downloading data for {date.strftime('%Y-%m-%d')}...")
    # Download the daily data for the specified point and date
    daily_data = downloader.download_amedas(point, date, dtype='daily')
    time.sleep(0.5)

print("Download complete.")









from jma_data_tools import JMAUpperAirDownloader
# Initialize the downloader
downloader = JMAUpperAirDownloader(output_path='upperair_data')
    
from jma_data_tools import JMADataPlotter
    
kansho = [47401, 47412, 47418, 47582, 47600, 47646,
          47678, 47741, 47778, 47807, 47827, 47909,
          47918, 47945, 47971, 47991, 
          89532] # last one is Showwa Kichi
    

test_point = '47646'  # Example station code for Tsukuba
test_date = pd.Timestamp('2022-06-01 09:00')
    
data = downloader.download_sounding_data(test_point, test_date)
plotter = JMADataPlotter()
plotter.plot_sounding(data, date)
    
