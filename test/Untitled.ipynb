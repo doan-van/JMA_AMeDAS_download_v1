{
 "cells": [
  {
   "cell_type": "code",
   "execution_count": null,
   "id": "7a979f1d-a43d-47dd-84ab-7464dc491087",
   "metadata": {},
   "outputs": [
    {
     "name": "stdout",
     "output_type": "stream",
     "text": [
      "Downloading data for 1990-01-01...\n"
     ]
    },
    {
     "name": "stderr",
     "output_type": "stream",
     "text": [
      "/Users/doan/anaconda3_2023.09-0/envs/wrf/lib/python3.11/site-packages/jma_data_tools/JMAGroundDataDownloader.py:230: FutureWarning: Downcasting behavior in `replace` is deprecated and will be removed in a future version. To retain the old behavior, explicitly call `result.infer_objects(copy=False)`. To opt-in to the future behavior, set `pd.set_option('future.no_silent_downcasting', True)`\n",
      "  do = do.replace('×', '-999')\n"
     ]
    },
    {
     "name": "stdout",
     "output_type": "stream",
     "text": [
      "dowloaded:  http://www.data.jma.go.jp/obd/stats/etrn/view/daily_s1.php?prec_no=40&block_no=47646&year=1990&month=01&day=&view=\n",
      "Downloading data for 1990-01-02...\n"
     ]
    },
    {
     "name": "stderr",
     "output_type": "stream",
     "text": [
      "/Users/doan/anaconda3_2023.09-0/envs/wrf/lib/python3.11/site-packages/jma_data_tools/JMAGroundDataDownloader.py:230: FutureWarning: Downcasting behavior in `replace` is deprecated and will be removed in a future version. To retain the old behavior, explicitly call `result.infer_objects(copy=False)`. To opt-in to the future behavior, set `pd.set_option('future.no_silent_downcasting', True)`\n",
      "  do = do.replace('×', '-999')\n"
     ]
    },
    {
     "name": "stdout",
     "output_type": "stream",
     "text": [
      "dowloaded:  http://www.data.jma.go.jp/obd/stats/etrn/view/daily_s1.php?prec_no=40&block_no=47646&year=1990&month=01&day=&view=\n",
      "Downloading data for 1990-01-03...\n",
      "dowloaded:  http://www.data.jma.go.jp/obd/stats/etrn/view/daily_s1.php?prec_no=40&block_no=47646&year=1990&month=01&day=&view=\n"
     ]
    },
    {
     "name": "stderr",
     "output_type": "stream",
     "text": [
      "/Users/doan/anaconda3_2023.09-0/envs/wrf/lib/python3.11/site-packages/jma_data_tools/JMAGroundDataDownloader.py:230: FutureWarning: Downcasting behavior in `replace` is deprecated and will be removed in a future version. To retain the old behavior, explicitly call `result.infer_objects(copy=False)`. To opt-in to the future behavior, set `pd.set_option('future.no_silent_downcasting', True)`\n",
      "  do = do.replace('×', '-999')\n"
     ]
    },
    {
     "name": "stdout",
     "output_type": "stream",
     "text": [
      "Downloading data for 1990-01-04...\n"
     ]
    },
    {
     "name": "stderr",
     "output_type": "stream",
     "text": [
      "/Users/doan/anaconda3_2023.09-0/envs/wrf/lib/python3.11/site-packages/jma_data_tools/JMAGroundDataDownloader.py:230: FutureWarning: Downcasting behavior in `replace` is deprecated and will be removed in a future version. To retain the old behavior, explicitly call `result.infer_objects(copy=False)`. To opt-in to the future behavior, set `pd.set_option('future.no_silent_downcasting', True)`\n",
      "  do = do.replace('×', '-999')\n"
     ]
    },
    {
     "name": "stdout",
     "output_type": "stream",
     "text": [
      "dowloaded:  http://www.data.jma.go.jp/obd/stats/etrn/view/daily_s1.php?prec_no=40&block_no=47646&year=1990&month=01&day=&view=\n",
      "Downloading data for 1990-01-05...\n"
     ]
    },
    {
     "name": "stderr",
     "output_type": "stream",
     "text": [
      "/Users/doan/anaconda3_2023.09-0/envs/wrf/lib/python3.11/site-packages/jma_data_tools/JMAGroundDataDownloader.py:230: FutureWarning: Downcasting behavior in `replace` is deprecated and will be removed in a future version. To retain the old behavior, explicitly call `result.infer_objects(copy=False)`. To opt-in to the future behavior, set `pd.set_option('future.no_silent_downcasting', True)`\n",
      "  do = do.replace('×', '-999')\n"
     ]
    },
    {
     "name": "stdout",
     "output_type": "stream",
     "text": [
      "dowloaded:  http://www.data.jma.go.jp/obd/stats/etrn/view/daily_s1.php?prec_no=40&block_no=47646&year=1990&month=01&day=&view=\n",
      "Downloading data for 1990-01-06...\n"
     ]
    },
    {
     "name": "stderr",
     "output_type": "stream",
     "text": [
      "/Users/doan/anaconda3_2023.09-0/envs/wrf/lib/python3.11/site-packages/jma_data_tools/JMAGroundDataDownloader.py:230: FutureWarning: Downcasting behavior in `replace` is deprecated and will be removed in a future version. To retain the old behavior, explicitly call `result.infer_objects(copy=False)`. To opt-in to the future behavior, set `pd.set_option('future.no_silent_downcasting', True)`\n",
      "  do = do.replace('×', '-999')\n"
     ]
    },
    {
     "name": "stdout",
     "output_type": "stream",
     "text": [
      "dowloaded:  http://www.data.jma.go.jp/obd/stats/etrn/view/daily_s1.php?prec_no=40&block_no=47646&year=1990&month=01&day=&view=\n",
      "Downloading data for 1990-01-07...\n"
     ]
    },
    {
     "name": "stderr",
     "output_type": "stream",
     "text": [
      "/Users/doan/anaconda3_2023.09-0/envs/wrf/lib/python3.11/site-packages/jma_data_tools/JMAGroundDataDownloader.py:230: FutureWarning: Downcasting behavior in `replace` is deprecated and will be removed in a future version. To retain the old behavior, explicitly call `result.infer_objects(copy=False)`. To opt-in to the future behavior, set `pd.set_option('future.no_silent_downcasting', True)`\n",
      "  do = do.replace('×', '-999')\n"
     ]
    },
    {
     "name": "stdout",
     "output_type": "stream",
     "text": [
      "dowloaded:  http://www.data.jma.go.jp/obd/stats/etrn/view/daily_s1.php?prec_no=40&block_no=47646&year=1990&month=01&day=&view=\n",
      "Downloading data for 1990-01-08...\n"
     ]
    },
    {
     "name": "stderr",
     "output_type": "stream",
     "text": [
      "/Users/doan/anaconda3_2023.09-0/envs/wrf/lib/python3.11/site-packages/jma_data_tools/JMAGroundDataDownloader.py:230: FutureWarning: Downcasting behavior in `replace` is deprecated and will be removed in a future version. To retain the old behavior, explicitly call `result.infer_objects(copy=False)`. To opt-in to the future behavior, set `pd.set_option('future.no_silent_downcasting', True)`\n",
      "  do = do.replace('×', '-999')\n"
     ]
    },
    {
     "name": "stdout",
     "output_type": "stream",
     "text": [
      "dowloaded:  http://www.data.jma.go.jp/obd/stats/etrn/view/daily_s1.php?prec_no=40&block_no=47646&year=1990&month=01&day=&view=\n",
      "Downloading data for 1990-01-09...\n"
     ]
    },
    {
     "name": "stderr",
     "output_type": "stream",
     "text": [
      "/Users/doan/anaconda3_2023.09-0/envs/wrf/lib/python3.11/site-packages/jma_data_tools/JMAGroundDataDownloader.py:230: FutureWarning: Downcasting behavior in `replace` is deprecated and will be removed in a future version. To retain the old behavior, explicitly call `result.infer_objects(copy=False)`. To opt-in to the future behavior, set `pd.set_option('future.no_silent_downcasting', True)`\n",
      "  do = do.replace('×', '-999')\n"
     ]
    },
    {
     "name": "stdout",
     "output_type": "stream",
     "text": [
      "dowloaded:  http://www.data.jma.go.jp/obd/stats/etrn/view/daily_s1.php?prec_no=40&block_no=47646&year=1990&month=01&day=&view=\n",
      "Downloading data for 1990-01-10...\n"
     ]
    },
    {
     "name": "stderr",
     "output_type": "stream",
     "text": [
      "/Users/doan/anaconda3_2023.09-0/envs/wrf/lib/python3.11/site-packages/jma_data_tools/JMAGroundDataDownloader.py:230: FutureWarning: Downcasting behavior in `replace` is deprecated and will be removed in a future version. To retain the old behavior, explicitly call `result.infer_objects(copy=False)`. To opt-in to the future behavior, set `pd.set_option('future.no_silent_downcasting', True)`\n",
      "  do = do.replace('×', '-999')\n"
     ]
    },
    {
     "name": "stdout",
     "output_type": "stream",
     "text": [
      "dowloaded:  http://www.data.jma.go.jp/obd/stats/etrn/view/daily_s1.php?prec_no=40&block_no=47646&year=1990&month=01&day=&view=\n",
      "Downloading data for 1990-01-11...\n"
     ]
    },
    {
     "name": "stderr",
     "output_type": "stream",
     "text": [
      "/Users/doan/anaconda3_2023.09-0/envs/wrf/lib/python3.11/site-packages/jma_data_tools/JMAGroundDataDownloader.py:230: FutureWarning: Downcasting behavior in `replace` is deprecated and will be removed in a future version. To retain the old behavior, explicitly call `result.infer_objects(copy=False)`. To opt-in to the future behavior, set `pd.set_option('future.no_silent_downcasting', True)`\n",
      "  do = do.replace('×', '-999')\n"
     ]
    },
    {
     "name": "stdout",
     "output_type": "stream",
     "text": [
      "dowloaded:  http://www.data.jma.go.jp/obd/stats/etrn/view/daily_s1.php?prec_no=40&block_no=47646&year=1990&month=01&day=&view=\n",
      "Downloading data for 1990-01-12...\n"
     ]
    },
    {
     "name": "stderr",
     "output_type": "stream",
     "text": [
      "/Users/doan/anaconda3_2023.09-0/envs/wrf/lib/python3.11/site-packages/jma_data_tools/JMAGroundDataDownloader.py:230: FutureWarning: Downcasting behavior in `replace` is deprecated and will be removed in a future version. To retain the old behavior, explicitly call `result.infer_objects(copy=False)`. To opt-in to the future behavior, set `pd.set_option('future.no_silent_downcasting', True)`\n",
      "  do = do.replace('×', '-999')\n"
     ]
    },
    {
     "name": "stdout",
     "output_type": "stream",
     "text": [
      "dowloaded:  http://www.data.jma.go.jp/obd/stats/etrn/view/daily_s1.php?prec_no=40&block_no=47646&year=1990&month=01&day=&view=\n",
      "Downloading data for 1990-01-13...\n"
     ]
    },
    {
     "name": "stderr",
     "output_type": "stream",
     "text": [
      "/Users/doan/anaconda3_2023.09-0/envs/wrf/lib/python3.11/site-packages/jma_data_tools/JMAGroundDataDownloader.py:230: FutureWarning: Downcasting behavior in `replace` is deprecated and will be removed in a future version. To retain the old behavior, explicitly call `result.infer_objects(copy=False)`. To opt-in to the future behavior, set `pd.set_option('future.no_silent_downcasting', True)`\n",
      "  do = do.replace('×', '-999')\n"
     ]
    },
    {
     "name": "stdout",
     "output_type": "stream",
     "text": [
      "dowloaded:  http://www.data.jma.go.jp/obd/stats/etrn/view/daily_s1.php?prec_no=40&block_no=47646&year=1990&month=01&day=&view=\n",
      "Downloading data for 1990-01-14...\n"
     ]
    },
    {
     "name": "stderr",
     "output_type": "stream",
     "text": [
      "/Users/doan/anaconda3_2023.09-0/envs/wrf/lib/python3.11/site-packages/jma_data_tools/JMAGroundDataDownloader.py:230: FutureWarning: Downcasting behavior in `replace` is deprecated and will be removed in a future version. To retain the old behavior, explicitly call `result.infer_objects(copy=False)`. To opt-in to the future behavior, set `pd.set_option('future.no_silent_downcasting', True)`\n",
      "  do = do.replace('×', '-999')\n"
     ]
    },
    {
     "name": "stdout",
     "output_type": "stream",
     "text": [
      "dowloaded:  http://www.data.jma.go.jp/obd/stats/etrn/view/daily_s1.php?prec_no=40&block_no=47646&year=1990&month=01&day=&view=\n",
      "Downloading data for 1990-01-15...\n",
      "dowloaded:  http://www.data.jma.go.jp/obd/stats/etrn/view/daily_s1.php?prec_no=40&block_no=47646&year=1990&month=01&day=&view=\n"
     ]
    },
    {
     "name": "stderr",
     "output_type": "stream",
     "text": [
      "/Users/doan/anaconda3_2023.09-0/envs/wrf/lib/python3.11/site-packages/jma_data_tools/JMAGroundDataDownloader.py:230: FutureWarning: Downcasting behavior in `replace` is deprecated and will be removed in a future version. To retain the old behavior, explicitly call `result.infer_objects(copy=False)`. To opt-in to the future behavior, set `pd.set_option('future.no_silent_downcasting', True)`\n",
      "  do = do.replace('×', '-999')\n"
     ]
    },
    {
     "name": "stdout",
     "output_type": "stream",
     "text": [
      "Downloading data for 1990-01-16...\n",
      "dowloaded:  http://www.data.jma.go.jp/obd/stats/etrn/view/daily_s1.php?prec_no=40&block_no=47646&year=1990&month=01&day=&view=\n"
     ]
    },
    {
     "name": "stderr",
     "output_type": "stream",
     "text": [
      "/Users/doan/anaconda3_2023.09-0/envs/wrf/lib/python3.11/site-packages/jma_data_tools/JMAGroundDataDownloader.py:230: FutureWarning: Downcasting behavior in `replace` is deprecated and will be removed in a future version. To retain the old behavior, explicitly call `result.infer_objects(copy=False)`. To opt-in to the future behavior, set `pd.set_option('future.no_silent_downcasting', True)`\n",
      "  do = do.replace('×', '-999')\n"
     ]
    },
    {
     "name": "stdout",
     "output_type": "stream",
     "text": [
      "Downloading data for 1990-01-17...\n"
     ]
    },
    {
     "name": "stderr",
     "output_type": "stream",
     "text": [
      "/Users/doan/anaconda3_2023.09-0/envs/wrf/lib/python3.11/site-packages/jma_data_tools/JMAGroundDataDownloader.py:230: FutureWarning: Downcasting behavior in `replace` is deprecated and will be removed in a future version. To retain the old behavior, explicitly call `result.infer_objects(copy=False)`. To opt-in to the future behavior, set `pd.set_option('future.no_silent_downcasting', True)`\n",
      "  do = do.replace('×', '-999')\n"
     ]
    },
    {
     "name": "stdout",
     "output_type": "stream",
     "text": [
      "dowloaded:  http://www.data.jma.go.jp/obd/stats/etrn/view/daily_s1.php?prec_no=40&block_no=47646&year=1990&month=01&day=&view=\n",
      "Downloading data for 1990-01-18...\n",
      "dowloaded:  http://www.data.jma.go.jp/obd/stats/etrn/view/daily_s1.php?prec_no=40&block_no=47646&year=1990&month=01&day=&view=\n"
     ]
    },
    {
     "name": "stderr",
     "output_type": "stream",
     "text": [
      "/Users/doan/anaconda3_2023.09-0/envs/wrf/lib/python3.11/site-packages/jma_data_tools/JMAGroundDataDownloader.py:230: FutureWarning: Downcasting behavior in `replace` is deprecated and will be removed in a future version. To retain the old behavior, explicitly call `result.infer_objects(copy=False)`. To opt-in to the future behavior, set `pd.set_option('future.no_silent_downcasting', True)`\n",
      "  do = do.replace('×', '-999')\n"
     ]
    },
    {
     "name": "stdout",
     "output_type": "stream",
     "text": [
      "Downloading data for 1990-01-19...\n",
      "dowloaded:  http://www.data.jma.go.jp/obd/stats/etrn/view/daily_s1.php?prec_no=40&block_no=47646&year=1990&month=01&day=&view=\n"
     ]
    },
    {
     "name": "stderr",
     "output_type": "stream",
     "text": [
      "/Users/doan/anaconda3_2023.09-0/envs/wrf/lib/python3.11/site-packages/jma_data_tools/JMAGroundDataDownloader.py:230: FutureWarning: Downcasting behavior in `replace` is deprecated and will be removed in a future version. To retain the old behavior, explicitly call `result.infer_objects(copy=False)`. To opt-in to the future behavior, set `pd.set_option('future.no_silent_downcasting', True)`\n",
      "  do = do.replace('×', '-999')\n"
     ]
    },
    {
     "name": "stdout",
     "output_type": "stream",
     "text": [
      "Downloading data for 1990-01-20...\n"
     ]
    },
    {
     "name": "stderr",
     "output_type": "stream",
     "text": [
      "/Users/doan/anaconda3_2023.09-0/envs/wrf/lib/python3.11/site-packages/jma_data_tools/JMAGroundDataDownloader.py:230: FutureWarning: Downcasting behavior in `replace` is deprecated and will be removed in a future version. To retain the old behavior, explicitly call `result.infer_objects(copy=False)`. To opt-in to the future behavior, set `pd.set_option('future.no_silent_downcasting', True)`\n",
      "  do = do.replace('×', '-999')\n"
     ]
    },
    {
     "name": "stdout",
     "output_type": "stream",
     "text": [
      "dowloaded:  http://www.data.jma.go.jp/obd/stats/etrn/view/daily_s1.php?prec_no=40&block_no=47646&year=1990&month=01&day=&view=\n"
     ]
    }
   ],
   "source": [
    "import pandas as pd\n",
    "from jma_data_tools import JMAGroundDataDownloader\n",
    "import time\n",
    "import os\n",
    "\n",
    "# Initialize the downloader\n",
    "downloader = JMAGroundDataDownloader(amedas_file='../Amedas_list.csv')\n",
    "\n",
    "# Set up parameters\n",
    "point = '47646'  # Example: Tsukuba station\n",
    "output_dir = \"daily_data\"  # Directory to save daily data files\n",
    "start_date = pd.Timestamp('1990-01-01')\n",
    "end_date = pd.Timestamp('2021-12-31')\n",
    "\n",
    "# Generate date range for 30 years of daily data\n",
    "date_range = pd.date_range(start=start_date, end=end_date, freq='D')\n",
    "\n",
    "# Loop over each date to download daily data\n",
    "for date in date_range:\n",
    "\n",
    "    print(f\"Downloading data for {date.strftime('%Y-%m-%d')}...\")\n",
    "    # Download the daily data for the specified point and date\n",
    "    daily_data = downloader.download_amedas(point, date, dtype='daily')\n",
    "    \n",
    "    time.sleep(0.5)\n",
    "\n",
    "print(\"Download complete.\")\n"
   ]
  },
  {
   "cell_type": "code",
   "execution_count": null,
   "id": "7273e7ee-9c50-4904-9004-56c6dd8f88ce",
   "metadata": {},
   "outputs": [],
   "source": []
  }
 ],
 "metadata": {
  "kernelspec": {
   "display_name": "Python 3 (ipykernel)",
   "language": "python",
   "name": "python3"
  },
  "language_info": {
   "codemirror_mode": {
    "name": "ipython",
    "version": 3
   },
   "file_extension": ".py",
   "mimetype": "text/x-python",
   "name": "python",
   "nbconvert_exporter": "python",
   "pygments_lexer": "ipython3",
   "version": "3.11.5"
  }
 },
 "nbformat": 4,
 "nbformat_minor": 5
}
