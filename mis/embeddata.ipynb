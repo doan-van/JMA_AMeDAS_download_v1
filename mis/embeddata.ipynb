{
 "cells": [
  {
   "cell_type": "code",
   "execution_count": 3,
   "id": "ae6d3420-7bcc-48e1-951f-8324a13b933f",
   "metadata": {},
   "outputs": [],
   "source": [
    "import pandas as pd\n",
    "\n",
    "# Load the CSV into a DataFrame and set the specified index\n",
    "amedas_df = pd.read_csv(\"../Amedas_list.csv\", index_col=1)\n",
    "\n",
    "# Select relevant columns\n",
    "df = amedas_df.loc[:, [\n",
    "    'station_name', 'station_name_kana',\n",
    "    'station_name_roman', 'fuken_id', 'type',\n",
    "    'longitude', 'latitude', 'height'\n",
    "]]\n",
    "\n",
    "# Remove duplicate index values (based on the index column 'station_id')\n",
    "df = df[~df.index.duplicated(keep='first')]\n",
    "\n",
    "# Convert the DataFrame to a dictionary with index as keys\n",
    "amedas_data = df.to_dict(orient=\"index\")\n",
    "\n",
    "# Display the resulting dictionary for confirmation\n",
    "#print(amedas_data)\n"
   ]
  },
  {
   "cell_type": "code",
   "execution_count": 8,
   "id": "c08ea873-96ec-44eb-bca4-39d0d4956af7",
   "metadata": {},
   "outputs": [],
   "source": [
    "output_script = \"amedas_data.py\"\n",
    "# Start writing the new Python file\n",
    "with open(output_script, \"w\") as f:\n",
    "    # Write header comments and imports\n",
    "    f.write(\"# This script contains embedded Amedas data as a dictionary\\n\")\n",
    "    #f.write(\"# Generated from {}\\n\\n\".format(input_csv))\n",
    "    \n",
    "    # Define the variable name and embed data as a dictionary\n",
    "    f.write(\"amedas_data = {\\n\")\n",
    "    \n",
    "    # Loop through each key-value pair in the data\n",
    "    for station_id, record in amedas_data.items():\n",
    "        f.write(\"    \")\n",
    "        f.write(f\"{station_id}: {record},\\n\")\n",
    "    \n",
    "    # Close the dictionary\n",
    "    f.write(\"}\\n\\n\")\n",
    "    \n",
    "    # Add an example usage\n",
    "    f.write(\"# Usage example\\n\")\n",
    "    f.write(\"for station_id, station_data in amedas_data.items():\\n\")\n",
    "    f.write(\"    print(f\\\"Station ID: {station_id}, Name: {station_data['station_name']}\\\")\\n\")\n",
    "\n",
    "output_script = \"../jma_data_tools/amedas_data.py\"  # Output Python file with embedded data\n"
   ]
  },
  {
   "cell_type": "code",
   "execution_count": null,
   "id": "ecb7f3ce-1707-49f1-ba5f-8895eae09bc7",
   "metadata": {},
   "outputs": [],
   "source": []
  }
 ],
 "metadata": {
  "kernelspec": {
   "display_name": "Python 3 (ipykernel)",
   "language": "python",
   "name": "python3"
  },
  "language_info": {
   "codemirror_mode": {
    "name": "ipython",
    "version": 3
   },
   "file_extension": ".py",
   "mimetype": "text/x-python",
   "name": "python",
   "nbconvert_exporter": "python",
   "pygments_lexer": "ipython3",
   "version": "3.11.5"
  }
 },
 "nbformat": 4,
 "nbformat_minor": 5
}
