import pandas as pd

# Load the CSV into a DataFrame and set the specified index
amedas_df = pd.read_csv("../Amedas_list.csv", index_col=1)

# Select relevant columns
df = amedas_df.loc[:, [
    'station_name', 'station_name_kana',
    'station_name_roman', 'fuken_id', 'type',
    'longitude', 'latitude', 'height'
]]

# Remove duplicate index values (based on the index column 'station_id')
df = df[~df.index.duplicated(keep='first')]

# Convert the DataFrame to a dictionary with index as keys
amedas_data = df.to_dict(orient="index")

# Display the resulting dictionary for confirmation
#print(amedas_data)



output_script = "amedas_data.py"
# Start writing the new Python file
with open(output_script, "w") as f:
    # Write header comments and imports
    f.write("# This script contains embedded Amedas data as a dictionary\n")
    #f.write("# Generated from {}\n\n".format(input_csv))
    
    # Define the variable name and embed data as a dictionary
    f.write("amedas_data = {\n")
    
    # Loop through each key-value pair in the data
    for station_id, record in amedas_data.items():
        f.write("    ")
        f.write(f"{station_id}: {record},\n")
    
    # Close the dictionary
    f.write("}\n\n")
    
    # Add an example usage
    f.write("# Usage example\n")
    f.write("for station_id, station_data in amedas_data.items():\n")
    f.write("    print(f\"Station ID: {station_id}, Name: {station_data['station_name']}\")\n")

output_script = "../jma_data_tools/amedas_data.py"  # Output Python file with embedded data




